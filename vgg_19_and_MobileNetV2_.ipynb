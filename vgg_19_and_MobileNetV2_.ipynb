{
  "nbformat": 4,
  "nbformat_minor": 0,
  "metadata": {
    "colab": {
      "provenance": []
    },
    "kernelspec": {
      "name": "python3",
      "display_name": "Python 3"
    },
    "language_info": {
      "name": "python"
    },
    "accelerator": "GPU",
    "gpuClass": "standard"
  },
  "cells": [
    {
      "cell_type": "code",
      "execution_count": null,
      "metadata": {
        "id": "FLdyv9HTw3NW"
      },
      "outputs": [],
      "source": [
        "import numpy as np\n",
        "import pandas as pd \n",
        "import matplotlib.pyplot as plt\n",
        "import tensorflow as tf\n",
        "from tensorflow.keras.models import Sequential, Model\n",
        "from tensorflow.keras.layers import Conv2D, MaxPooling2D, Flatten, Dense, Dropout\n",
        "from tensorflow.keras.applications import InceptionV3, VGG16, InceptionResNetV2, VGG19, ResNet101, ResNet101V2, ResNet152, ResNet152V2, ResNet50, ResNet50V2, Xception\n",
        "from time import perf_counter \n",
        "import os\n",
        "import cv2\n",
        "from tensorflow.keras.optimizers import Adam,SGD,RMSprop"
      ]
    },
    {
      "cell_type": "code",
      "source": [
        "os.environ['KAGGLE_USERNAME']=\"ridhimamishra1022\"\n",
        "os.environ['KAGGLE_KEY']=\"43a84c2ffcbdaa7a111c8577df6d155a\""
      ],
      "metadata": {
        "id": "Ahvc26yPxOoH"
      },
      "execution_count": null,
      "outputs": []
    },
    {
      "cell_type": "code",
      "source": [
        "!kaggle datasets download -d jonathanoheix/face-expression-recognition-dataset"
      ],
      "metadata": {
        "colab": {
          "base_uri": "https://localhost:8080/"
        },
        "id": "CTVAbyfZyzHa",
        "outputId": "e8803790-606a-45fe-b96e-c77a0f6c3272"
      },
      "execution_count": null,
      "outputs": [
        {
          "output_type": "stream",
          "name": "stdout",
          "text": [
            "face-expression-recognition-dataset.zip: Skipping, found more recently modified local copy (use --force to force download)\n"
          ]
        }
      ]
    },
    {
      "cell_type": "code",
      "source": [
        "!unzip face-expression-recognition-dataset.zip"
      ],
      "metadata": {
        "colab": {
          "base_uri": "https://localhost:8080/"
        },
        "id": "r98CK1ByzHXh",
        "outputId": "aca5afc7-305a-453b-f9e1-8f630673ac80"
      },
      "execution_count": null,
      "outputs": [
        {
          "output_type": "stream",
          "name": "stdout",
          "text": [
            "Archive:  face-expression-recognition-dataset.zip\n",
            "replace images/images/train/angry/0.jpg? [y]es, [n]o, [A]ll, [N]one, [r]ename: "
          ]
        }
      ]
    },
    {
      "cell_type": "code",
      "source": [
        "batch_size = 100\n",
        "img_height =48\n",
        "img_width = 48"
      ],
      "metadata": {
        "id": "FQ7E2J-k15Ge"
      },
      "execution_count": null,
      "outputs": []
    },
    {
      "cell_type": "code",
      "source": [
        "training_ds = tf.keras.preprocessing.image_dataset_from_directory(\n",
        "    '/content/images/train',\n",
        "    seed=42,\n",
        "    image_size= (img_height, img_width),\n",
        "    batch_size=batch_size)"
      ],
      "metadata": {
        "colab": {
          "base_uri": "https://localhost:8080/"
        },
        "id": "joJocoVj2sio",
        "outputId": "f0f8c520-6e1c-454d-ddb2-7f07fc3d5da8"
      },
      "execution_count": null,
      "outputs": [
        {
          "output_type": "stream",
          "name": "stdout",
          "text": [
            "Found 28821 files belonging to 7 classes.\n"
          ]
        }
      ]
    },
    {
      "cell_type": "code",
      "source": [
        "validation_ds =  tf.keras.preprocessing.image_dataset_from_directory(\n",
        "    '/content/images/validation',\n",
        "    seed=42,\n",
        "    image_size= (img_height, img_width),\n",
        "    batch_size=batch_size)"
      ],
      "metadata": {
        "colab": {
          "base_uri": "https://localhost:8080/"
        },
        "id": "TiikXu_o2vrd",
        "outputId": "4c73f63b-0388-45ca-dd1d-8b6ce2804477"
      },
      "execution_count": null,
      "outputs": [
        {
          "output_type": "stream",
          "name": "stdout",
          "text": [
            "Found 7066 files belonging to 7 classes.\n"
          ]
        }
      ]
    },
    {
      "cell_type": "code",
      "source": [
        "vgg19= VGG19(include_top=False, input_shape=(256,256,3), classes=7)"
      ],
      "metadata": {
        "id": "2XscrfJZ2yoc"
      },
      "execution_count": null,
      "outputs": []
    },
    {
      "cell_type": "code",
      "source": [
        "X=vgg19.output\n",
        "X=Flatten()(X)\n",
        "X=Dense(1024, activation='relu')(X)\n",
        "X=Dropout(0.3)(X)\n",
        "X=Dense(512, activation='relu')(X)\n",
        "X=Dropout(0.2)(X)\n",
        "X=Dense(256, activation='relu')(X)\n",
        "output=Dense(7, activation='softmax')(X)"
      ],
      "metadata": {
        "id": "a1EsyUv426QX"
      },
      "execution_count": null,
      "outputs": []
    },
    {
      "cell_type": "code",
      "source": [
        "model=Model(inputs=vgg19.input, outputs=output)"
      ],
      "metadata": {
        "id": "eTWv7Hnt3EeI"
      },
      "execution_count": null,
      "outputs": []
    },
    {
      "cell_type": "code",
      "source": [
        "model.summary()"
      ],
      "metadata": {
        "colab": {
          "base_uri": "https://localhost:8080/"
        },
        "id": "x7kScfVD8uAw",
        "outputId": "4d27e6a2-080b-4ad0-94f0-cb1cb14fac91"
      },
      "execution_count": null,
      "outputs": [
        {
          "output_type": "stream",
          "name": "stdout",
          "text": [
            "Model: \"model\"\n",
            "_________________________________________________________________\n",
            " Layer (type)                Output Shape              Param #   \n",
            "=================================================================\n",
            " input_1 (InputLayer)        [(None, 256, 256, 3)]     0         \n",
            "                                                                 \n",
            " block1_conv1 (Conv2D)       (None, 256, 256, 64)      1792      \n",
            "                                                                 \n",
            " block1_conv2 (Conv2D)       (None, 256, 256, 64)      36928     \n",
            "                                                                 \n",
            " block1_pool (MaxPooling2D)  (None, 128, 128, 64)      0         \n",
            "                                                                 \n",
            " block2_conv1 (Conv2D)       (None, 128, 128, 128)     73856     \n",
            "                                                                 \n",
            " block2_conv2 (Conv2D)       (None, 128, 128, 128)     147584    \n",
            "                                                                 \n",
            " block2_pool (MaxPooling2D)  (None, 64, 64, 128)       0         \n",
            "                                                                 \n",
            " block3_conv1 (Conv2D)       (None, 64, 64, 256)       295168    \n",
            "                                                                 \n",
            " block3_conv2 (Conv2D)       (None, 64, 64, 256)       590080    \n",
            "                                                                 \n",
            " block3_conv3 (Conv2D)       (None, 64, 64, 256)       590080    \n",
            "                                                                 \n",
            " block3_conv4 (Conv2D)       (None, 64, 64, 256)       590080    \n",
            "                                                                 \n",
            " block3_pool (MaxPooling2D)  (None, 32, 32, 256)       0         \n",
            "                                                                 \n",
            " block4_conv1 (Conv2D)       (None, 32, 32, 512)       1180160   \n",
            "                                                                 \n",
            " block4_conv2 (Conv2D)       (None, 32, 32, 512)       2359808   \n",
            "                                                                 \n",
            " block4_conv3 (Conv2D)       (None, 32, 32, 512)       2359808   \n",
            "                                                                 \n",
            " block4_conv4 (Conv2D)       (None, 32, 32, 512)       2359808   \n",
            "                                                                 \n",
            " block4_pool (MaxPooling2D)  (None, 16, 16, 512)       0         \n",
            "                                                                 \n",
            " block5_conv1 (Conv2D)       (None, 16, 16, 512)       2359808   \n",
            "                                                                 \n",
            " block5_conv2 (Conv2D)       (None, 16, 16, 512)       2359808   \n",
            "                                                                 \n",
            " block5_conv3 (Conv2D)       (None, 16, 16, 512)       2359808   \n",
            "                                                                 \n",
            " block5_conv4 (Conv2D)       (None, 16, 16, 512)       2359808   \n",
            "                                                                 \n",
            " block5_pool (MaxPooling2D)  (None, 8, 8, 512)         0         \n",
            "                                                                 \n",
            " flatten (Flatten)           (None, 32768)             0         \n",
            "                                                                 \n",
            " dense (Dense)               (None, 1024)              33555456  \n",
            "                                                                 \n",
            " dropout (Dropout)           (None, 1024)              0         \n",
            "                                                                 \n",
            " dense_1 (Dense)             (None, 512)               524800    \n",
            "                                                                 \n",
            " dropout_1 (Dropout)         (None, 512)               0         \n",
            "                                                                 \n",
            " dense_2 (Dense)             (None, 256)               131328    \n",
            "                                                                 \n",
            " dense_3 (Dense)             (None, 7)                 1799      \n",
            "                                                                 \n",
            "=================================================================\n",
            "Total params: 54,237,767\n",
            "Trainable params: 54,237,767\n",
            "Non-trainable params: 0\n",
            "_________________________________________________________________\n"
          ]
        }
      ]
    },
    {
      "cell_type": "code",
      "source": [
        "model.compile(optimizer='adam', loss=tf.keras.losses.sparse_categorical_crossentropy, metrics=['accuracy'])"
      ],
      "metadata": {
        "id": "l5GrPu1N3MiB"
      },
      "execution_count": null,
      "outputs": []
    },
    {
      "cell_type": "code",
      "source": [
        "from keras.callbacks import ModelCheckpoint, EarlyStopping, ReduceLROnPlateau\n",
        "\n",
        "checkpoint = ModelCheckpoint(filepath=\"./cnn_model.h5\", monitor='val_accuracy', verbose=1, save_best_only=True, mode='max')\n",
        "\n",
        "early_stopping = EarlyStopping(monitor='val_loss',\n",
        "                          min_delta=0,\n",
        "                          patience=3,\n",
        "                          verbose=1,\n",
        "                          restore_best_weights=True\n",
        "                          )\n",
        "\n",
        "reduce_learningrate = ReduceLROnPlateau(monitor='val_loss',\n",
        "                              factor=0.2,\n",
        "                              patience=3,\n",
        "                              verbose=1,\n",
        "                              min_delta=0.0001)\n",
        "\n",
        "callbacks_list = [early_stopping,checkpoint,reduce_learningrate]"
      ],
      "metadata": {
        "id": "HIjsYLBj3Rd7"
      },
      "execution_count": null,
      "outputs": []
    },
    {
      "cell_type": "code",
      "source": [
        "model.fit(training_ds, validation_data=validation_ds, batch_size=16, epochs=20,callbacks=callbacks_list)\n"
      ],
      "metadata": {
        "colab": {
          "base_uri": "https://localhost:8080/"
        },
        "id": "h6ijm2dr3vLZ",
        "outputId": "81749d51-e5d3-4af9-91c5-c34e950f2f6f"
      },
      "execution_count": null,
      "outputs": [
        {
          "output_type": "stream",
          "name": "stdout",
          "text": [
            "Epoch 1/20\n",
            "289/289 [==============================] - ETA: 0s - loss: 2.1396 - accuracy: 0.2447\n",
            "Epoch 1: val_accuracy improved from -inf to 0.25842, saving model to ./cnn_model.h5\n",
            "289/289 [==============================] - 680s 2s/step - loss: 2.1396 - accuracy: 0.2447 - val_loss: 1.8115 - val_accuracy: 0.2584 - lr: 0.0010\n",
            "Epoch 2/20\n",
            "289/289 [==============================] - ETA: 0s - loss: 1.8034 - accuracy: 0.2541\n",
            "Epoch 2: val_accuracy improved from 0.25842 to 0.26238, saving model to ./cnn_model.h5\n",
            "289/289 [==============================] - 641s 2s/step - loss: 1.8034 - accuracy: 0.2541 - val_loss: 1.8090 - val_accuracy: 0.2624 - lr: 0.0010\n",
            "Epoch 3/20\n",
            "289/289 [==============================] - ETA: 0s - loss: 1.8004 - accuracy: 0.2529\n",
            "Epoch 3: val_accuracy improved from 0.26238 to 0.27526, saving model to ./cnn_model.h5\n",
            "289/289 [==============================] - 641s 2s/step - loss: 1.8004 - accuracy: 0.2529 - val_loss: 1.7801 - val_accuracy: 0.2753 - lr: 0.0010\n",
            "Epoch 4/20\n",
            "289/289 [==============================] - ETA: 0s - loss: 1.8041 - accuracy: 0.2532\n",
            "Epoch 4: val_accuracy did not improve from 0.27526\n",
            "289/289 [==============================] - 631s 2s/step - loss: 1.8041 - accuracy: 0.2532 - val_loss: 1.8129 - val_accuracy: 0.2583 - lr: 0.0010\n",
            "Epoch 5/20\n",
            "289/289 [==============================] - ETA: 0s - loss: 1.8122 - accuracy: 0.2485\n",
            "Epoch 5: val_accuracy did not improve from 0.27526\n",
            "289/289 [==============================] - 618s 2s/step - loss: 1.8122 - accuracy: 0.2485 - val_loss: 1.8102 - val_accuracy: 0.2583 - lr: 0.0010\n",
            "Epoch 6/20\n",
            "289/289 [==============================] - ETA: 0s - loss: 5.4990 - accuracy: 0.2423Restoring model weights from the end of the best epoch: 3.\n",
            "\n",
            "Epoch 6: val_accuracy did not improve from 0.27526\n",
            "\n",
            "Epoch 6: ReduceLROnPlateau reducing learning rate to 0.00020000000949949026.\n",
            "289/289 [==============================] - 621s 2s/step - loss: 5.4990 - accuracy: 0.2423 - val_loss: 1.8108 - val_accuracy: 0.2583 - lr: 0.0010\n",
            "Epoch 6: early stopping\n"
          ]
        },
        {
          "output_type": "execute_result",
          "data": {
            "text/plain": [
              "<keras.callbacks.History at 0x7f7923bcb650>"
            ]
          },
          "metadata": {},
          "execution_count": 20
        }
      ]
    },
    {
      "cell_type": "code",
      "source": [],
      "metadata": {
        "id": "BzsRQKCR4DGq"
      },
      "execution_count": null,
      "outputs": []
    },
    {
      "cell_type": "code",
      "source": [],
      "metadata": {
        "id": "rsG5yUQANK7Z"
      },
      "execution_count": null,
      "outputs": []
    },
    {
      "cell_type": "code",
      "source": [
        "################MobileNetV2##############"
      ],
      "metadata": {
        "id": "-uqFOVvNNK3R"
      },
      "execution_count": null,
      "outputs": []
    },
    {
      "cell_type": "code",
      "source": [],
      "metadata": {
        "id": "fsid2zx1NKzc"
      },
      "execution_count": null,
      "outputs": []
    },
    {
      "cell_type": "code",
      "source": [
        "base_model = tf.keras.applications.MobileNetV2(include_top=False,input_shape=(256,256,3), classes=7)"
      ],
      "metadata": {
        "colab": {
          "base_uri": "https://localhost:8080/"
        },
        "id": "xf8zRbWeNKwg",
        "outputId": "7e118f52-f170-4158-c0d4-e41fb7515dd8"
      },
      "execution_count": null,
      "outputs": [
        {
          "output_type": "stream",
          "name": "stdout",
          "text": [
            "WARNING:tensorflow:`input_shape` is undefined or non-square, or `rows` is not in [96, 128, 160, 192, 224]. Weights for input shape (224, 224) will be loaded as the default.\n"
          ]
        }
      ]
    },
    {
      "cell_type": "code",
      "source": [
        "X=base_model.output\n",
        "X=Flatten()(X)\n",
        "X=Dense(1024, activation='relu')(X)\n",
        "X=Dropout(0.3)(X)\n",
        "X=Dense(512, activation='relu')(X)\n",
        "X=Dropout(0.2)(X)\n",
        "X=Dense(256, activation='relu')(X)\n",
        "output=Dense(7, activation='softmax')(X)"
      ],
      "metadata": {
        "id": "UX513cr_NKue"
      },
      "execution_count": null,
      "outputs": []
    },
    {
      "cell_type": "markdown",
      "source": [],
      "metadata": {
        "id": "SsClsFvwfN4W"
      }
    },
    {
      "cell_type": "code",
      "source": [
        "model1=Model(inputs=base_model.input, outputs=output)"
      ],
      "metadata": {
        "id": "Mt8LBY66O5Jm"
      },
      "execution_count": null,
      "outputs": []
    },
    {
      "cell_type": "code",
      "source": [
        "model1.compile(optimizer='adam', loss=tf.keras.losses.sparse_categorical_crossentropy, metrics=['accuracy'])"
      ],
      "metadata": {
        "id": "5mttazdNPGZV"
      },
      "execution_count": null,
      "outputs": []
    },
    {
      "cell_type": "code",
      "source": [
        "from keras.callbacks import ModelCheckpoint, EarlyStopping, ReduceLROnPlateau\n",
        "\n",
        "checkpoint = ModelCheckpoint(filepath=\"./mobilenetV2_model.h5\", monitor='val_accuracy', verbose=1, save_best_only=True, mode='max')\n",
        "\n",
        "early_stopping = EarlyStopping(monitor='val_loss',\n",
        "                          min_delta=0,\n",
        "                          patience=3,\n",
        "                          verbose=1,\n",
        "                          restore_best_weights=True\n",
        "                          )\n",
        "\n",
        "reduce_learningrate = ReduceLROnPlateau(monitor='val_loss',\n",
        "                              factor=0.2,\n",
        "                              patience=3,\n",
        "                              verbose=1,\n",
        "                              min_delta=0.0001)\n",
        "\n",
        "callbacks_list = [early_stopping,checkpoint,reduce_learningrate]"
      ],
      "metadata": {
        "id": "tkjDNXdfPOAo"
      },
      "execution_count": null,
      "outputs": []
    },
    {
      "cell_type": "code",
      "source": [
        "model1.fit(training_ds, validation_data=validation_ds, batch_size=16, epochs=20,callbacks=callbacks_list)"
      ],
      "metadata": {
        "colab": {
          "base_uri": "https://localhost:8080/"
        },
        "id": "_7ByWer4PdST",
        "outputId": "934c79d9-caa3-4f1f-b19c-e6fe9446606f"
      },
      "execution_count": null,
      "outputs": [
        {
          "output_type": "stream",
          "name": "stdout",
          "text": [
            "Epoch 1/20\n",
            "289/289 [==============================] - ETA: 0s - loss: 1.8606 - accuracy: 0.3794\n",
            "Epoch 1: val_accuracy improved from -inf to 0.16134, saving model to ./mobilenetV2_model.h5\n",
            "289/289 [==============================] - 267s 900ms/step - loss: 1.8606 - accuracy: 0.3794 - val_loss: 3.5372 - val_accuracy: 0.1613 - lr: 0.0010\n",
            "Epoch 2/20\n",
            "289/289 [==============================] - ETA: 0s - loss: 1.3563 - accuracy: 0.4829\n",
            "Epoch 2: val_accuracy did not improve from 0.16134\n",
            "289/289 [==============================] - 256s 883ms/step - loss: 1.3563 - accuracy: 0.4829 - val_loss: 2.1598 - val_accuracy: 0.1128 - lr: 0.0010\n",
            "Epoch 3/20\n",
            "289/289 [==============================] - ETA: 0s - loss: 1.2100 - accuracy: 0.5350\n",
            "Epoch 3: val_accuracy improved from 0.16134 to 0.16190, saving model to ./mobilenetV2_model.h5\n",
            "289/289 [==============================] - 261s 900ms/step - loss: 1.2100 - accuracy: 0.5350 - val_loss: 1.9903 - val_accuracy: 0.1619 - lr: 0.0010\n",
            "Epoch 4/20\n",
            "289/289 [==============================] - ETA: 0s - loss: 1.0892 - accuracy: 0.5842\n",
            "Epoch 4: val_accuracy improved from 0.16190 to 0.38933, saving model to ./mobilenetV2_model.h5\n",
            "289/289 [==============================] - 258s 891ms/step - loss: 1.0892 - accuracy: 0.5842 - val_loss: 1.9179 - val_accuracy: 0.3893 - lr: 0.0010\n",
            "Epoch 5/20\n",
            "289/289 [==============================] - ETA: 0s - loss: 1.0158 - accuracy: 0.6150\n",
            "Epoch 5: val_accuracy did not improve from 0.38933\n",
            "289/289 [==============================] - 254s 877ms/step - loss: 1.0158 - accuracy: 0.6150 - val_loss: 3.8198 - val_accuracy: 0.1911 - lr: 0.0010\n",
            "Epoch 6/20\n",
            "289/289 [==============================] - ETA: 0s - loss: 0.9428 - accuracy: 0.6467\n",
            "Epoch 6: val_accuracy improved from 0.38933 to 0.51104, saving model to ./mobilenetV2_model.h5\n",
            "289/289 [==============================] - 258s 892ms/step - loss: 0.9428 - accuracy: 0.6467 - val_loss: 1.6107 - val_accuracy: 0.5110 - lr: 0.0010\n",
            "Epoch 7/20\n",
            "289/289 [==============================] - ETA: 0s - loss: 0.8811 - accuracy: 0.6711\n",
            "Epoch 7: val_accuracy did not improve from 0.51104\n",
            "289/289 [==============================] - 255s 880ms/step - loss: 0.8811 - accuracy: 0.6711 - val_loss: 2.8633 - val_accuracy: 0.3343 - lr: 0.0010\n",
            "Epoch 8/20\n",
            "289/289 [==============================] - ETA: 0s - loss: 0.8413 - accuracy: 0.6903\n",
            "Epoch 8: val_accuracy did not improve from 0.51104\n",
            "289/289 [==============================] - 256s 884ms/step - loss: 0.8413 - accuracy: 0.6903 - val_loss: 2.0279 - val_accuracy: 0.4254 - lr: 0.0010\n",
            "Epoch 9/20\n",
            "289/289 [==============================] - ETA: 0s - loss: 0.7853 - accuracy: 0.7112Restoring model weights from the end of the best epoch: 6.\n",
            "\n",
            "Epoch 9: val_accuracy did not improve from 0.51104\n",
            "\n",
            "Epoch 9: ReduceLROnPlateau reducing learning rate to 0.00020000000949949026.\n",
            "289/289 [==============================] - 253s 874ms/step - loss: 0.7853 - accuracy: 0.7112 - val_loss: 2.5274 - val_accuracy: 0.3354 - lr: 0.0010\n",
            "Epoch 9: early stopping\n"
          ]
        },
        {
          "output_type": "execute_result",
          "data": {
            "text/plain": [
              "<keras.callbacks.History at 0x7f78920869d0>"
            ]
          },
          "metadata": {},
          "execution_count": 29
        }
      ]
    },
    {
      "cell_type": "code",
      "source": [],
      "metadata": {
        "id": "ifdQej8zPo77"
      },
      "execution_count": null,
      "outputs": []
    },
    {
      "cell_type": "code",
      "source": [],
      "metadata": {
        "id": "xB9hV0ka7NSn"
      },
      "execution_count": null,
      "outputs": []
    }
  ]
}